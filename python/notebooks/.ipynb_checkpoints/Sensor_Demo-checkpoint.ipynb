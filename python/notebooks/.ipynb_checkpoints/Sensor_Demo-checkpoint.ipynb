{
 "cells": [
  {
   "cell_type": "code",
   "execution_count": 1,
   "metadata": {},
   "outputs": [
    {
     "data": {
      "text/plain": [
       "['CartesianPoint',\n",
       " 'CartesianPoint_swigregister',\n",
       " 'ImagePoint',\n",
       " 'ImagePoint_swigregister',\n",
       " 'Sensor',\n",
       " 'SensorModel',\n",
       " 'SensorModelFactory',\n",
       " 'SensorModelFactory_create',\n",
       " 'SensorModelFactory_swigregister',\n",
       " 'SensorModel_swigregister',\n",
       " 'Sensor_swigregister',\n",
       " 'ShapeModel',\n",
       " 'ShapeModel_swigregister',\n",
       " '__builtins__',\n",
       " '__cached__',\n",
       " '__doc__',\n",
       " '__file__',\n",
       " '__loader__',\n",
       " '__name__',\n",
       " '__package__',\n",
       " '__path__',\n",
       " '__spec__',\n",
       " '_sensors',\n",
       " 'sensors']"
      ]
     },
     "execution_count": 1,
     "metadata": {},
     "output_type": "execute_result"
    }
   ],
   "source": [
    "import sensors\n",
    "import json\n",
    "import ctypes\n",
    "\n",
    "import csmapi\n",
    "\n",
    "dir(sensors)"
   ]
  },
  {
   "cell_type": "code",
   "execution_count": 2,
   "metadata": {},
   "outputs": [],
   "source": [
    "lib = ctypes.CDLL('/Users/krodriguez-pr/anaconda3/envs/csm/lib/libusgscsm.dylib')"
   ]
  },
  {
   "cell_type": "code",
   "execution_count": 3,
   "metadata": {},
   "outputs": [],
   "source": [
    "isd = \"/Users/krodriguez-pr/repos/SensorUtils/tests/data/simpleFramerISD.json\"\n",
    "shape = {\n",
    "    \"semiminor\" : 10,\n",
    "    \"semimajor\": 10\n",
    "}\n",
    "\n",
    "sensor = sensors.Sensor(\"/Users/krodriguez-pr/repos/SensorUtils/tests/data/simpleFramerISD.json\", '{\"semiminor\": 10, \"semimajor\": 10}')\n"
   ]
  },
  {
   "cell_type": "code",
   "execution_count": 24,
   "metadata": {},
   "outputs": [
    {
     "data": {
      "text/plain": [
       "0.0"
      ]
     },
     "execution_count": 24,
     "metadata": {},
     "output_type": "execute_result"
    }
   ],
   "source": [
    "imgpt = sensors.ImagePoint(10.0,100.0,0.0)\n",
    "\n",
    "sensor.phaseAngle(sensors.ImagePoint(10.0,100.0,0.0))"
   ]
  },
  {
   "cell_type": "code",
   "execution_count": 27,
   "metadata": {},
   "outputs": [
    {
     "ename": "NameError",
     "evalue": "name 'ensors' is not defined",
     "output_type": "error",
     "traceback": [
      "\u001b[0;31m---------------------------------------------------------------------------\u001b[0m",
      "\u001b[0;31mNameError\u001b[0m                                 Traceback (most recent call last)",
      "\u001b[0;32m<ipython-input-27-d4decb744cd2>\u001b[0m in \u001b[0;36m<module>\u001b[0;34m()\u001b[0m\n\u001b[0;32m----> 1\u001b[0;31m \u001b[0mensors\u001b[0m\u001b[0;34m.\u001b[0m\u001b[0mImagePoint\u001b[0m\u001b[0;34m(\u001b[0m\u001b[0;36m10.0\u001b[0m\u001b[0;34m,\u001b[0m\u001b[0;36m100.0\u001b[0m\u001b[0;34m,\u001b[0m\u001b[0;36m0.0\u001b[0m\u001b[0;34m)\u001b[0m\u001b[0;34m\u001b[0m\u001b[0m\n\u001b[0m",
      "\u001b[0;31mNameError\u001b[0m: name 'ensors' is not defined"
     ]
    }
   ],
   "source": []
  },
  {
   "cell_type": "code",
   "execution_count": 4,
   "metadata": {},
   "outputs": [
    {
     "name": "stdout",
     "output_type": "stream",
     "text": [
      "{\r\n",
      "\t\"boresight\": [\r\n",
      "\t\t0.0,\r\n",
      "\t\t0.0,\r\n",
      "\t\t1.0\r\n",
      "\t],\r\n",
      "\t\"ccd_center\": [\r\n",
      "\t\t7.5,\r\n",
      "\t\t7.5\r\n",
      "\t],\r\n",
      "\t\"ephemeris_time\": 100.0,\r\n",
      "\t\"focal_length\": 50,\r\n",
      "\t\"focal_length_epsilon\": 1.0,\r\n",
      "\t\"ifov\": 6.0,\r\n",
      "\t\"model_name\": \"USGS_ASTRO_FRAME_SENSOR_MODEL\",\r\n",
      "\t\"spacecraft_name\": \"TEST_CRAFT\",\r\n",
      "\t\"instrument_id\": \"TEST_SENSOR\",\r\n",
      "\t\"target_name\": \"TEST_BALL\",\r\n",
      "\t\"pixel_pitch\": 0.1,\r\n",
      "\t\"itrans_line\": [\r\n",
      "\t\t0.0,\r\n",
      "\t\t0.0,\r\n",
      "\t\t10\r\n",
      "\t],\r\n",
      "\t\"itrans_sample\": [\r\n",
      "\t\t0.0,\r\n",
      "\t\t10,\r\n",
      "\t\t0.0\r\n",
      "\t],\r\n",
      "\t\"transx\": [\r\n",
      "\t\t0.0,\r\n",
      "\t\t0.1,\r\n",
      "\t\t0.0\r\n",
      "\t],\r\n",
      "\t\"transy\": [\r\n",
      "\t\t0.0,\r\n",
      "\t\t0.0,\r\n",
      "\t\t0.1\r\n",
      "\t],\r\n",
      "\t\"min_elevation\": -1,\r\n",
      "\t\"max_elevation\": 1,\r\n",
      "\t\"nlines\": 16,\r\n",
      "\t\"nsamples\": 16,\r\n",
      "\t\"original_half_lines\": 8.0,\r\n",
      "\t\"original_half_samples\": 8.0,\r\n",
      "\t\"omega\": 0,\r\n",
      "\t\"phi\": -1.5707963267948966,\r\n",
      "\t\"kappa\": 3.141592653589793,\r\n",
      "\t\"semi_major_axis\": 0.01,\r\n",
      "\t\"semi_minor_axis\": 0.01,\r\n",
      "\t\"x_sensor_origin\": 1000,\r\n",
      "\t\"y_sensor_origin\": 0,\r\n",
      "\t\"z_sensor_origin\": 0,\r\n",
      "\t\"x_sensor_velocity\": 1,\r\n",
      "\t\"y_sensparse error - unexpected 't'or_velocity\": 0,\r\n",
      "\t\"z_sensor_velocity\": 0,\r\n",
      "\t\"x_sun_position\": 100,\r\n",
      "\t\"y_sun_position\": 100,\r\n",
      "\t\"z_sun_position\": 0,\r\n",
      "\t\"odt_x\": [\r\n",
      "\t\t0.0,\r\n",
      "\t\t1.0,\r\n",
      "\t\t0.0,\r\n",
      "\t\t0.0,\r\n",
      "\t\t0.0,\r\n",
      "\t\t0.0,\r\n",
      "\t\t0.0,\r\n",
      "\t\t0.0,\r\n",
      "\t\t0.0,\r\n",
      "\t\t0.0\r\n",
      "\t],\r\n",
      "\t\"odt_y\": [\r\n",
      "\t\t0.0,\r\n",
      "\t\t1.0,\r\n",
      "\t\t0.0,\r\n",
      "\t\t0.0,\r\n",
      "\t\t0.0,\r\n",
      "\t\t0.0,\r\n",
      "\t\t0.0,\r\n",
      "\t\t0.0,\r\n",
      "\t\t0.0,\r\n",
      "\t\t0.0\r\n",
      "\t],\r\n",
      "\t\"starting_detector_line\": 0.0,\r\n",
      "\t\"starting_detector_sample\": 0.0\r\n",
      "}"
     ]
    }
   ],
   "source": [
    "cat \"/Users/krodriguez-pr/repos/SensorUtils/tests/data/simpleFramerISD.json\""
   ]
  },
  {
   "cell_type": "code",
   "execution_count": null,
   "metadata": {},
   "outputs": [],
   "source": []
  }
 ],
 "metadata": {
  "kernelspec": {
   "display_name": "Python 3",
   "language": "python",
   "name": "python3"
  },
  "language_info": {
   "codemirror_mode": {
    "name": "ipython",
    "version": 3
   },
   "file_extension": ".py",
   "mimetype": "text/x-python",
   "name": "python",
   "nbconvert_exporter": "python",
   "pygments_lexer": "ipython3",
   "version": "3.7.0"
  }
 },
 "nbformat": 4,
 "nbformat_minor": 2
}
