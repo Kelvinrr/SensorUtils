{
 "cells": [
  {
   "cell_type": "code",
   "execution_count": 14,
   "metadata": {},
   "outputs": [
    {
     "data": {
      "text/plain": [
       "['CartesianPoint',\n",
       " 'CartesianPoint_swigregister',\n",
       " 'ImagePoint',\n",
       " 'ImagePoint_swigregister',\n",
       " 'Sensor',\n",
       " 'SensorModel',\n",
       " 'SensorModelFactory',\n",
       " 'SensorModelFactory_create',\n",
       " 'SensorModelFactory_swigregister',\n",
       " 'SensorModel_swigregister',\n",
       " 'Sensor_swigregister',\n",
       " 'ShapeModel',\n",
       " 'ShapeModel_swigregister',\n",
       " '__builtins__',\n",
       " '__cached__',\n",
       " '__doc__',\n",
       " '__file__',\n",
       " '__loader__',\n",
       " '__name__',\n",
       " '__package__',\n",
       " '__path__',\n",
       " '__spec__',\n",
       " '_sensors',\n",
       " 'sensors']"
      ]
     },
     "execution_count": 14,
     "metadata": {},
     "output_type": "execute_result"
    }
   ],
   "source": [
    "import sensors\n",
    "import json\n",
    "import ctypes\n",
    "import csmapi\n",
    "\n",
    "import pyproj \n",
    "import csmapi\n",
    "\n",
    "from shapely.geometry import Polygon \n",
    "import numpy as np\n",
    "\n",
    "dir(sensors)"
   ]
  },
  {
   "cell_type": "code",
   "execution_count": 15,
   "metadata": {},
   "outputs": [],
   "source": [
    "import os\n",
    "lib = ctypes.CDLL(os.path.join(os.environ['CONDA_PREFIX'], 'lib/libusgscsm.dylib'))"
   ]
  },
  {
   "cell_type": "code",
   "execution_count": 16,
   "metadata": {},
   "outputs": [],
   "source": [
    "isdfile = \"/Users/krodriguez-pr/repos/SensorUtils/tests/data/simpleFramerISD.json\"\n",
    "isd = json.load(open(isdfile))\n",
    "\n",
    "shape = {\n",
    "    \"semiminor\" : 10,\n",
    "    \"semimajor\": 10\n",
    "}\n",
    "\n",
    "sensor = sensors.Sensor(isdfile, '{\"semiminor\": 10, \"semimajor\": 10}')"
   ]
  },
  {
   "cell_type": "code",
   "execution_count": 17,
   "metadata": {},
   "outputs": [
    {
     "data": {
      "text/plain": [
       "(7.121065303152477, -4.964394673484238, -4.964394673484238)"
      ]
     },
     "execution_count": 17,
     "metadata": {},
     "output_type": "execute_result"
    }
   ],
   "source": [
    "# compute some things, but who knows if it's correct \n",
    "imgpt = sensors.ImagePoint(10.0,10.0,0.0)\n",
    "grndpoint = sensor.imageToGround(imgpt)\n",
    "grndpoint.x, grndpoint.y, grndpoint.z"
   ]
  },
  {
   "cell_type": "code",
   "execution_count": 18,
   "metadata": {},
   "outputs": [
    {
     "data": {
      "text/plain": [
       "0.0"
      ]
     },
     "execution_count": 18,
     "metadata": {},
     "output_type": "execute_result"
    }
   ],
   "source": [
    "sensor.phaseAngle(sensors.ImagePoint(10.0,100.0,0.0))"
   ]
  },
  {
   "cell_type": "code",
   "execution_count": 19,
   "metadata": {},
   "outputs": [
    {
     "data": {
      "image/svg+xml": [
       "<svg xmlns=\"http://www.w3.org/2000/svg\" xmlns:xlink=\"http://www.w3.org/1999/xlink\" width=\"191.1665038680575\" height=\"108.22340061499887\" viewBox=\"-95.59088615745063 -52.07056116882391 191.1665038680575 108.22340061499887\" preserveAspectRatio=\"xMinYMin meet\"><g transform=\"matrix(1,0,0,-1,0,4.082278277351058)\"><path fill-rule=\"evenodd\" fill=\"#66cc99\" stroke=\"#555555\" stroke-width=\"2.0\" opacity=\"0.6\" d=\"M 88.281641998345,44.98711424776337 L -88.26402854297604,49.072598562172836 L -88.5106452734485,-44.99032028482178 L 88.49537682660474,-40.90460453347965 L 88.281641998345,44.98711424776337 z\" /></g></svg>"
      ],
      "text/plain": [
       "<shapely.geometry.polygon.Polygon at 0x121cdc400>"
      ]
     },
     "execution_count": 19,
     "metadata": {},
     "output_type": "execute_result"
    }
   ],
   "source": [
    "isd[\"image_lines\"] = 15\n",
    "isd[\"image_samples\"] = 15\n",
    "\n",
    "def footprint(camera, isd):\n",
    "    def rect_to_lat(x, y, z, radius=3396190):\n",
    "        ecef = pyproj.Proj(proj='geocent', a=radius, b=radius)\n",
    "        lla = pyproj.Proj(proj='longlat', a=radius, b=radius)\n",
    "        return pyproj.transform(ecef, lla, x, y, z)\n",
    "\n",
    "    nlines = isd[\"image_lines\"] \n",
    "    nsamples = isd[\"image_samples\"]\n",
    "    \n",
    "    corner_pixels = [sensors.ImagePoint(0,0,1),\n",
    "                     sensors.ImagePoint(0, nsamples-1,1),\n",
    "                     sensors.ImagePoint(nlines-1, nsamples-1,1),\n",
    "                     sensors.ImagePoint(nlines-1, 0,1)]\n",
    "    \n",
    "    ground_list = []\n",
    "    for pixel in corner_pixels:\n",
    "        ground = camera.imageToGround(pixel)\n",
    "        lat, lon, alt = rect_to_lat(ground.x, ground.y, ground.z)\n",
    "        ground_list.append([lat, lon, alt])\n",
    "    ground_corners = np.asarray(ground_list)\n",
    "    footprint = Polygon(ground_corners[:,[0,1]])\n",
    "    return footprint\n",
    "    \n",
    "poly = footprint(sensor, isd)\n",
    "poly"
   ]
  },
  {
   "cell_type": "code",
   "execution_count": null,
   "metadata": {},
   "outputs": [],
   "source": []
  }
 ],
 "metadata": {
  "kernelspec": {
   "display_name": "Python 3",
   "language": "python",
   "name": "python3"
  },
  "language_info": {
   "codemirror_mode": {
    "name": "ipython",
    "version": 3
   },
   "file_extension": ".py",
   "mimetype": "text/x-python",
   "name": "python",
   "nbconvert_exporter": "python",
   "pygments_lexer": "ipython3",
   "version": "3.7.0"
  }
 },
 "nbformat": 4,
 "nbformat_minor": 2
}
