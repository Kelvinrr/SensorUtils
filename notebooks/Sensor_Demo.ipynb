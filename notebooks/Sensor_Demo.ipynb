{
 "cells": [
  {
   "cell_type": "code",
   "execution_count": 1,
   "metadata": {},
   "outputs": [
    {
     "data": {
      "text/plain": [
       "['CartesianPoint',\n",
       " 'CartesianPoint_swigregister',\n",
       " 'ImagePoint',\n",
       " 'ImagePoint_swigregister',\n",
       " 'Sensor',\n",
       " 'SensorModel',\n",
       " 'SensorModelFactory',\n",
       " 'SensorModelFactory_create',\n",
       " 'SensorModelFactory_swigregister',\n",
       " 'SensorModel_swigregister',\n",
       " 'Sensor_swigregister',\n",
       " 'ShapeModel',\n",
       " 'ShapeModel_swigregister',\n",
       " '__builtins__',\n",
       " '__cached__',\n",
       " '__doc__',\n",
       " '__file__',\n",
       " '__loader__',\n",
       " '__name__',\n",
       " '__package__',\n",
       " '__path__',\n",
       " '__spec__',\n",
       " '_sensors',\n",
       " 'sensors']"
      ]
     },
     "execution_count": 1,
     "metadata": {},
     "output_type": "execute_result"
    }
   ],
   "source": [
    "import sensors\n",
    "import json\n",
    "import ctypes\n",
    "import csmapi\n",
    "\n",
    "dir(sensors)"
   ]
  },
  {
   "cell_type": "code",
   "execution_count": 2,
   "metadata": {},
   "outputs": [],
   "source": [
    "import os\n",
    "lib = ctypes.CDLL(os.path.join(os.environ['CONDA_PREFIX'], 'lib/libusgscsm.dylib'))"
   ]
  },
  {
   "cell_type": "code",
   "execution_count": 3,
   "metadata": {},
   "outputs": [],
   "source": [
    "isd = \"/Users/krodriguez-pr/repos/SensorUtils/tests/data/simpleFramerISD.json\"\n",
    "shape = {\n",
    "    \"semiminor\" : 10,\n",
    "    \"semimajor\": 10\n",
    "}\n",
    "\n",
    "sensor = sensors.Sensor(\"/Users/krodriguez-pr/repos/SensorUtils/tests/data/simpleFramerISD.json\", '{\"semiminor\": 10, \"semimajor\": 10}')"
   ]
  },
  {
   "cell_type": "code",
   "execution_count": 6,
   "metadata": {},
   "outputs": [
    {
     "data": {
      "text/plain": [
       "(7.121065303152477, -4.964394673484238, -4.964394673484238)"
      ]
     },
     "execution_count": 6,
     "metadata": {},
     "output_type": "execute_result"
    }
   ],
   "source": [
    "# compute some things, but who knows if it's correct \n",
    "imgpt = sensors.ImagePoint(10.0,10.0,0.0)\n",
    "grndpoint = sensor.imageToGround(imgpt)\n",
    "grndpoint.x, grndpoint.y, grndpoint.z"
   ]
  },
  {
   "cell_type": "code",
   "execution_count": 7,
   "metadata": {},
   "outputs": [
    {
     "data": {
      "text/plain": [
       "0.0"
      ]
     },
     "execution_count": 7,
     "metadata": {},
     "output_type": "execute_result"
    }
   ],
   "source": [
    "sensor.phaseAngle(sensors.ImagePoint(10.0,100.0,0.0))"
   ]
  }
 ],
 "metadata": {
  "kernelspec": {
   "display_name": "Python 3",
   "language": "python",
   "name": "python3"
  },
  "language_info": {
   "codemirror_mode": {
    "name": "ipython",
    "version": 3
   },
   "file_extension": ".py",
   "mimetype": "text/x-python",
   "name": "python",
   "nbconvert_exporter": "python",
   "pygments_lexer": "ipython3",
   "version": "3.7.0"
  }
 },
 "nbformat": 4,
 "nbformat_minor": 2
}
